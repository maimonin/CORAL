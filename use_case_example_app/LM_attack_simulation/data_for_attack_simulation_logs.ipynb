{
 "cells": [
  {
   "cell_type": "code",
   "outputs": [],
   "source": [
    "import pandas as pd\n",
    "import json"
   ],
   "metadata": {
    "collapsed": false,
    "ExecuteTime": {
     "end_time": "2024-04-04T08:59:40.269482Z",
     "start_time": "2024-04-04T08:59:39.136999Z"
    }
   },
   "id": "495b81666b1276ce",
   "execution_count": 1
  },
  {
   "cell_type": "markdown",
   "source": [
    "# 1. Initial Compromise - Frontend Service"
   ],
   "metadata": {
    "collapsed": false
   },
   "id": "a72bdb935dd57d9d"
  },
  {
   "cell_type": "markdown",
   "source": [
    "## Get Frontend Data"
   ],
   "metadata": {
    "collapsed": false
   },
   "id": "4b93c175a7ffde0c"
  },
  {
   "cell_type": "markdown",
   "source": [
    "### Provenance Data"
   ],
   "metadata": {
    "collapsed": false
   },
   "id": "72bc95b00d17d491"
  },
  {
   "cell_type": "code",
   "execution_count": 2,
   "id": "initial_id",
   "metadata": {
    "collapsed": true,
    "ExecuteTime": {
     "end_time": "2024-04-04T08:59:40.344312Z",
     "start_time": "2024-04-04T08:59:40.272491Z"
    }
   },
   "outputs": [],
   "source": [
    "# provenance data dfs\n",
    "artifacts_df = pd.read_csv(\"../provenance_data/app_artifact_vertices.csv\")\n",
    "processes_df = pd.read_csv(\"../provenance_data/app_process_vertices.csv\")\n",
    "edges_df = pd.read_csv(\"../provenance_data/app_edges.csv\")"
   ]
  },
  {
   "cell_type": "code",
   "outputs": [
    {
     "data": {
      "text/plain": "   Unnamed: 0                                id      type  path  \\\n0          48  a41db92088a31a823a23ed48145dd661  Artifact   NaN   \n1          49  a2f50c6b069415c603efdac935d00de4  Artifact   NaN   \n2          96  be892937315bea0644510e695d37ac30  Artifact   NaN   \n3          97  5a7a49b0a1c2096d4e6e896d35f9194d  Artifact   NaN   \n4          98  80a3b6046c1aa2dda29b76dc32d1e4fa  Artifact   NaN   \n\n          subtype  permissions  epoch   source  version  \\\n0  network socket          NaN    0.0  syscall        0   \n1  network socket          NaN    0.0  syscall        0   \n2  network socket          NaN    0.0  syscall        0   \n3  network socket          NaN    0.0  syscall        0   \n4  network socket          NaN    0.0  syscall        0   \n\n                             local address  ...  protocol  \\\n0                                  0.0.0.0  ...       tcp   \n1                                  0.0.0.0  ...       tcp   \n2                                127.0.0.1  ...       tcp   \n3  0000:0000:0000:0000:0000:0000:0000:0000  ...       tcp   \n4                                127.0.0.1  ...       tcp   \n\n                            remote address local port  net namespace  \\\n0                            172.31.30.227     6379.0  -1.000000e+00   \n1                            172.31.30.227     6379.0  -1.000000e+00   \n2                                  0.0.0.0    46636.0   4.026532e+09   \n3  0000:0000:0000:0000:0000:FFFF:7F00:0001     8080.0  -1.000000e+00   \n4                                  0.0.0.0    46642.0   4.026532e+09   \n\n   memory address size tgid  read fd  write fd         svc  \n0             NaN  NaN  NaN      NaN       NaN  redis-cart  \n1             NaN  NaN  NaN      NaN       NaN  redis-cart  \n2             NaN  NaN  NaN      NaN       NaN    frontend  \n3             NaN  NaN  NaN      NaN       NaN    frontend  \n4             NaN  NaN  NaN      NaN       NaN    frontend  \n\n[5 rows x 21 columns]",
      "text/html": "<div>\n<style scoped>\n    .dataframe tbody tr th:only-of-type {\n        vertical-align: middle;\n    }\n\n    .dataframe tbody tr th {\n        vertical-align: top;\n    }\n\n    .dataframe thead th {\n        text-align: right;\n    }\n</style>\n<table border=\"1\" class=\"dataframe\">\n  <thead>\n    <tr style=\"text-align: right;\">\n      <th></th>\n      <th>Unnamed: 0</th>\n      <th>id</th>\n      <th>type</th>\n      <th>path</th>\n      <th>subtype</th>\n      <th>permissions</th>\n      <th>epoch</th>\n      <th>source</th>\n      <th>version</th>\n      <th>local address</th>\n      <th>...</th>\n      <th>protocol</th>\n      <th>remote address</th>\n      <th>local port</th>\n      <th>net namespace</th>\n      <th>memory address</th>\n      <th>size</th>\n      <th>tgid</th>\n      <th>read fd</th>\n      <th>write fd</th>\n      <th>svc</th>\n    </tr>\n  </thead>\n  <tbody>\n    <tr>\n      <th>0</th>\n      <td>48</td>\n      <td>a41db92088a31a823a23ed48145dd661</td>\n      <td>Artifact</td>\n      <td>NaN</td>\n      <td>network socket</td>\n      <td>NaN</td>\n      <td>0.0</td>\n      <td>syscall</td>\n      <td>0</td>\n      <td>0.0.0.0</td>\n      <td>...</td>\n      <td>tcp</td>\n      <td>172.31.30.227</td>\n      <td>6379.0</td>\n      <td>-1.000000e+00</td>\n      <td>NaN</td>\n      <td>NaN</td>\n      <td>NaN</td>\n      <td>NaN</td>\n      <td>NaN</td>\n      <td>redis-cart</td>\n    </tr>\n    <tr>\n      <th>1</th>\n      <td>49</td>\n      <td>a2f50c6b069415c603efdac935d00de4</td>\n      <td>Artifact</td>\n      <td>NaN</td>\n      <td>network socket</td>\n      <td>NaN</td>\n      <td>0.0</td>\n      <td>syscall</td>\n      <td>0</td>\n      <td>0.0.0.0</td>\n      <td>...</td>\n      <td>tcp</td>\n      <td>172.31.30.227</td>\n      <td>6379.0</td>\n      <td>-1.000000e+00</td>\n      <td>NaN</td>\n      <td>NaN</td>\n      <td>NaN</td>\n      <td>NaN</td>\n      <td>NaN</td>\n      <td>redis-cart</td>\n    </tr>\n    <tr>\n      <th>2</th>\n      <td>96</td>\n      <td>be892937315bea0644510e695d37ac30</td>\n      <td>Artifact</td>\n      <td>NaN</td>\n      <td>network socket</td>\n      <td>NaN</td>\n      <td>0.0</td>\n      <td>syscall</td>\n      <td>0</td>\n      <td>127.0.0.1</td>\n      <td>...</td>\n      <td>tcp</td>\n      <td>0.0.0.0</td>\n      <td>46636.0</td>\n      <td>4.026532e+09</td>\n      <td>NaN</td>\n      <td>NaN</td>\n      <td>NaN</td>\n      <td>NaN</td>\n      <td>NaN</td>\n      <td>frontend</td>\n    </tr>\n    <tr>\n      <th>3</th>\n      <td>97</td>\n      <td>5a7a49b0a1c2096d4e6e896d35f9194d</td>\n      <td>Artifact</td>\n      <td>NaN</td>\n      <td>network socket</td>\n      <td>NaN</td>\n      <td>0.0</td>\n      <td>syscall</td>\n      <td>0</td>\n      <td>0000:0000:0000:0000:0000:0000:0000:0000</td>\n      <td>...</td>\n      <td>tcp</td>\n      <td>0000:0000:0000:0000:0000:FFFF:7F00:0001</td>\n      <td>8080.0</td>\n      <td>-1.000000e+00</td>\n      <td>NaN</td>\n      <td>NaN</td>\n      <td>NaN</td>\n      <td>NaN</td>\n      <td>NaN</td>\n      <td>frontend</td>\n    </tr>\n    <tr>\n      <th>4</th>\n      <td>98</td>\n      <td>80a3b6046c1aa2dda29b76dc32d1e4fa</td>\n      <td>Artifact</td>\n      <td>NaN</td>\n      <td>network socket</td>\n      <td>NaN</td>\n      <td>0.0</td>\n      <td>syscall</td>\n      <td>0</td>\n      <td>127.0.0.1</td>\n      <td>...</td>\n      <td>tcp</td>\n      <td>0.0.0.0</td>\n      <td>46642.0</td>\n      <td>4.026532e+09</td>\n      <td>NaN</td>\n      <td>NaN</td>\n      <td>NaN</td>\n      <td>NaN</td>\n      <td>NaN</td>\n      <td>frontend</td>\n    </tr>\n  </tbody>\n</table>\n<p>5 rows × 21 columns</p>\n</div>"
     },
     "execution_count": 3,
     "metadata": {},
     "output_type": "execute_result"
    }
   ],
   "source": [
    "artifacts_df.head()"
   ],
   "metadata": {
    "collapsed": false,
    "ExecuteTime": {
     "end_time": "2024-04-04T08:59:40.390108Z",
     "start_time": "2024-04-04T08:59:40.348324Z"
    }
   },
   "id": "b34e6c28fbd1e4e2",
   "execution_count": 3
  },
  {
   "cell_type": "code",
   "outputs": [],
   "source": [
    "# Filter frontend service\n",
    "frontend_artifacts_df = artifacts_df[artifacts_df['svc'] == \"frontend\"]\n",
    "frontend_processes_df = processes_df[processes_df['svc'] == \"frontend\"]"
   ],
   "metadata": {
    "collapsed": false,
    "ExecuteTime": {
     "end_time": "2024-04-04T08:59:40.402917Z",
     "start_time": "2024-04-04T08:59:40.392115Z"
    }
   },
   "id": "465ed3cce6ec21d",
   "execution_count": 4
  },
  {
   "cell_type": "code",
   "outputs": [
    {
     "data": {
      "text/plain": "      Unnamed: 0                              from  \\\n4            915  0ef366a12c22d68dcc35e410ab69719e   \n5            916  0ef366a12c22d68dcc35e410ab69719e   \n6            917  0ef366a12c22d68dcc35e410ab69719e   \n7            918  0ef366a12c22d68dcc35e410ab69719e   \n8            919  9154e1fe447110ceac41673360bce4a7   \n...          ...                               ...   \n2376       36652  c9b24b4a9b63a52584108840c8d05916   \n2380       36658  c95375d1d0eea3b92c3d14a7e08b1861   \n2381       36659  afcfa21812d2f719e81ab88ad8db4765   \n2445       37591  c95375d1d0eea3b92c3d14a7e08b1861   \n2446       37592  44593fa4d9a1562de7a6c9d5cc888d70   \n\n                                    to            type  event id     flags  \\\n4     413b8704b3209061ce63aaa13a274964  WasTriggeredBy      1307       NaN   \n5     463300ec78aa5cf048742792ee5e5ef4            Used      1307       NaN   \n6     ff24d51b85635ab8e2118892169b5c1d            Used      1308  O_RDONLY   \n7     ff24d51b85635ab8e2118892169b5c1d            Used      1309       NaN   \n8     0ef366a12c22d68dcc35e410ab69719e  WasGeneratedBy      1310       NaN   \n...                                ...             ...       ...       ...   \n2376  3755bde2467599dfa823ec65cb26788d            Used     53167       NaN   \n2380  afcfa21812d2f719e81ab88ad8db4765            Used     53183       NaN   \n2381  f7463923246daf094a0d944c90db0146  WasGeneratedBy     53186       NaN   \n2445  44593fa4d9a1562de7a6c9d5cc888d70            Used     54418       NaN   \n2446  f7463923246daf094a0d944c90db0146  WasGeneratedBy     54424       NaN   \n\n       source          time     operation  protection  advice  \n4     syscall  1.702120e+09        execve         NaN     NaN  \n5     syscall  1.702120e+09          load         NaN     NaN  \n6     syscall  1.702120e+09          open         NaN     NaN  \n7     syscall  1.702120e+09         close         NaN     NaN  \n8     syscall  1.702120e+09  mmap (write)         3.0     NaN  \n...       ...           ...           ...         ...     ...  \n2376  syscall  1.702120e+09        accept         NaN     NaN  \n2380  syscall  1.702120e+09        accept         NaN     NaN  \n2381  syscall  1.702120e+09         close         NaN     NaN  \n2445  syscall  1.702120e+09        accept         NaN     NaN  \n2446  syscall  1.702120e+09         close         NaN     NaN  \n\n[518 rows x 11 columns]",
      "text/html": "<div>\n<style scoped>\n    .dataframe tbody tr th:only-of-type {\n        vertical-align: middle;\n    }\n\n    .dataframe tbody tr th {\n        vertical-align: top;\n    }\n\n    .dataframe thead th {\n        text-align: right;\n    }\n</style>\n<table border=\"1\" class=\"dataframe\">\n  <thead>\n    <tr style=\"text-align: right;\">\n      <th></th>\n      <th>Unnamed: 0</th>\n      <th>from</th>\n      <th>to</th>\n      <th>type</th>\n      <th>event id</th>\n      <th>flags</th>\n      <th>source</th>\n      <th>time</th>\n      <th>operation</th>\n      <th>protection</th>\n      <th>advice</th>\n    </tr>\n  </thead>\n  <tbody>\n    <tr>\n      <th>4</th>\n      <td>915</td>\n      <td>0ef366a12c22d68dcc35e410ab69719e</td>\n      <td>413b8704b3209061ce63aaa13a274964</td>\n      <td>WasTriggeredBy</td>\n      <td>1307</td>\n      <td>NaN</td>\n      <td>syscall</td>\n      <td>1.702120e+09</td>\n      <td>execve</td>\n      <td>NaN</td>\n      <td>NaN</td>\n    </tr>\n    <tr>\n      <th>5</th>\n      <td>916</td>\n      <td>0ef366a12c22d68dcc35e410ab69719e</td>\n      <td>463300ec78aa5cf048742792ee5e5ef4</td>\n      <td>Used</td>\n      <td>1307</td>\n      <td>NaN</td>\n      <td>syscall</td>\n      <td>1.702120e+09</td>\n      <td>load</td>\n      <td>NaN</td>\n      <td>NaN</td>\n    </tr>\n    <tr>\n      <th>6</th>\n      <td>917</td>\n      <td>0ef366a12c22d68dcc35e410ab69719e</td>\n      <td>ff24d51b85635ab8e2118892169b5c1d</td>\n      <td>Used</td>\n      <td>1308</td>\n      <td>O_RDONLY</td>\n      <td>syscall</td>\n      <td>1.702120e+09</td>\n      <td>open</td>\n      <td>NaN</td>\n      <td>NaN</td>\n    </tr>\n    <tr>\n      <th>7</th>\n      <td>918</td>\n      <td>0ef366a12c22d68dcc35e410ab69719e</td>\n      <td>ff24d51b85635ab8e2118892169b5c1d</td>\n      <td>Used</td>\n      <td>1309</td>\n      <td>NaN</td>\n      <td>syscall</td>\n      <td>1.702120e+09</td>\n      <td>close</td>\n      <td>NaN</td>\n      <td>NaN</td>\n    </tr>\n    <tr>\n      <th>8</th>\n      <td>919</td>\n      <td>9154e1fe447110ceac41673360bce4a7</td>\n      <td>0ef366a12c22d68dcc35e410ab69719e</td>\n      <td>WasGeneratedBy</td>\n      <td>1310</td>\n      <td>NaN</td>\n      <td>syscall</td>\n      <td>1.702120e+09</td>\n      <td>mmap (write)</td>\n      <td>3.0</td>\n      <td>NaN</td>\n    </tr>\n    <tr>\n      <th>...</th>\n      <td>...</td>\n      <td>...</td>\n      <td>...</td>\n      <td>...</td>\n      <td>...</td>\n      <td>...</td>\n      <td>...</td>\n      <td>...</td>\n      <td>...</td>\n      <td>...</td>\n      <td>...</td>\n    </tr>\n    <tr>\n      <th>2376</th>\n      <td>36652</td>\n      <td>c9b24b4a9b63a52584108840c8d05916</td>\n      <td>3755bde2467599dfa823ec65cb26788d</td>\n      <td>Used</td>\n      <td>53167</td>\n      <td>NaN</td>\n      <td>syscall</td>\n      <td>1.702120e+09</td>\n      <td>accept</td>\n      <td>NaN</td>\n      <td>NaN</td>\n    </tr>\n    <tr>\n      <th>2380</th>\n      <td>36658</td>\n      <td>c95375d1d0eea3b92c3d14a7e08b1861</td>\n      <td>afcfa21812d2f719e81ab88ad8db4765</td>\n      <td>Used</td>\n      <td>53183</td>\n      <td>NaN</td>\n      <td>syscall</td>\n      <td>1.702120e+09</td>\n      <td>accept</td>\n      <td>NaN</td>\n      <td>NaN</td>\n    </tr>\n    <tr>\n      <th>2381</th>\n      <td>36659</td>\n      <td>afcfa21812d2f719e81ab88ad8db4765</td>\n      <td>f7463923246daf094a0d944c90db0146</td>\n      <td>WasGeneratedBy</td>\n      <td>53186</td>\n      <td>NaN</td>\n      <td>syscall</td>\n      <td>1.702120e+09</td>\n      <td>close</td>\n      <td>NaN</td>\n      <td>NaN</td>\n    </tr>\n    <tr>\n      <th>2445</th>\n      <td>37591</td>\n      <td>c95375d1d0eea3b92c3d14a7e08b1861</td>\n      <td>44593fa4d9a1562de7a6c9d5cc888d70</td>\n      <td>Used</td>\n      <td>54418</td>\n      <td>NaN</td>\n      <td>syscall</td>\n      <td>1.702120e+09</td>\n      <td>accept</td>\n      <td>NaN</td>\n      <td>NaN</td>\n    </tr>\n    <tr>\n      <th>2446</th>\n      <td>37592</td>\n      <td>44593fa4d9a1562de7a6c9d5cc888d70</td>\n      <td>f7463923246daf094a0d944c90db0146</td>\n      <td>WasGeneratedBy</td>\n      <td>54424</td>\n      <td>NaN</td>\n      <td>syscall</td>\n      <td>1.702120e+09</td>\n      <td>close</td>\n      <td>NaN</td>\n      <td>NaN</td>\n    </tr>\n  </tbody>\n</table>\n<p>518 rows × 11 columns</p>\n</div>"
     },
     "execution_count": 5,
     "metadata": {},
     "output_type": "execute_result"
    }
   ],
   "source": [
    "# Create sets of unique IDs\n",
    "frontend_ids = set(frontend_artifacts_df['id']).union(set(frontend_processes_df['id']))\n",
    "\n",
    "# Filter edges_df based on whether 'from' or 'to' vertices are in the sets of IDs\n",
    "frontend_edges = edges_df[edges_df['from'].isin(frontend_ids) | edges_df['to'].isin(frontend_ids) | edges_df['from'].isin(frontend_ids) | edges_df['to'].isin(frontend_ids)]\n",
    "\n",
    "frontend_edges"
   ],
   "metadata": {
    "collapsed": false,
    "ExecuteTime": {
     "end_time": "2024-04-04T08:59:40.427751Z",
     "start_time": "2024-04-04T08:59:40.404926Z"
    }
   },
   "id": "96786fbc78805063",
   "execution_count": 5
  },
  {
   "cell_type": "markdown",
   "source": [
    "### CVE Data"
   ],
   "metadata": {
    "collapsed": false
   },
   "id": "bb57477c8baea08a"
  },
  {
   "cell_type": "code",
   "outputs": [],
   "source": [
    "# from vulnerabilities-scanner import trivy_cve_parser\n",
    "\n",
    "def get_cve_df_for_service(service_name):\n",
    "    \"\"\" Extract relevant CVE information from Trivy JSON output\" - to a specific service given as input\"\"\"\n",
    "    # Read Trivy JSON file\n",
    "    vuln_json_file = open('../../vulnerability-handler/Trivy/trivy_vuln_scan.json') # 2023-12-04\n",
    "    trivy_dict = json.loads(vuln_json_file.read())\n",
    "    # Initialize an empty DataFrame for CVE data\n",
    "    df_vuln_svc = pd.DataFrame(columns=['Pod-ID', 'Software', 'Version', 'CVE-ID', 'CVE-Severity', 'CVE-Title', 'CVSS'])\n",
    "    # Extract relevant information from Trivy JSON\n",
    "    findings_list = trivy_dict['Findings']\n",
    "    for pod_vulns_dict in findings_list:\n",
    "        if 'Namespace' in pod_vulns_dict.keys() and pod_vulns_dict['Namespace'] == 'attack-graphs':\n",
    "            if 'Results' in pod_vulns_dict:\n",
    "                for res_dict in pod_vulns_dict['Results']:\n",
    "                    if 'Vulnerabilities' in res_dict:\n",
    "                        for vuln_dict in res_dict['Vulnerabilities']:\n",
    "                            # if service_name in pod_vulns_dict['Name']:\n",
    "                            # Check if service name matches any in the list\n",
    "                            if service_name in pod_vulns_dict['Name']:\n",
    "                                new_vuln_row = {\n",
    "                                    'Pod-ID': pod_vulns_dict['Name'],\n",
    "                                    'Software': vuln_dict['PkgName'],\n",
    "                                    'Version': vuln_dict['InstalledVersion'],\n",
    "                                    'CVE-ID': vuln_dict[\"VulnerabilityID\"],\n",
    "                                    'CVE-Severity': vuln_dict[\"Severity\"],\n",
    "                                    'CVE-Title': vuln_dict[\"Title\"] if 'Title' in vuln_dict else None,\n",
    "                                    'CVSS': vuln_dict[\"CVSS\"] if 'CVSS' in vuln_dict else None\n",
    "                                }\n",
    "                                df_vuln_svc = pd.concat([df_vuln_svc, pd.DataFrame([new_vuln_row])])\n",
    "    return df_vuln_svc\n"
   ],
   "metadata": {
    "collapsed": false,
    "ExecuteTime": {
     "end_time": "2024-04-04T09:43:42.750333Z",
     "start_time": "2024-04-04T09:43:42.742379Z"
    }
   },
   "id": "28f1c4a4afb1d98e",
   "execution_count": 26
  },
  {
   "cell_type": "code",
   "outputs": [
    {
     "data": {
      "text/plain": "        Pod-ID    Software   Version         CVE-ID CVE-Severity  \\\n0   frontend-6  libcrypto3  3.0.7-r0  CVE-2022-3996         HIGH   \n0   frontend-6     libssl3  3.0.7-r0  CVE-2022-3996         HIGH   \n0   frontend-4  libcrypto3  3.0.7-r0  CVE-2022-3996         HIGH   \n0   frontend-4     libssl3  3.0.7-r0  CVE-2022-3996         HIGH   \n0   frontend-3  libcrypto3  3.0.7-r0  CVE-2022-3996         HIGH   \n0   frontend-3     libssl3  3.0.7-r0  CVE-2022-3996         HIGH   \n0   frontend-5  libcrypto3  3.0.7-r0  CVE-2022-3996         HIGH   \n0   frontend-5     libssl3  3.0.7-r0  CVE-2022-3996         HIGH   \n0  frontend-11  libcrypto3  3.0.7-r0  CVE-2022-3996         HIGH   \n0  frontend-11     libssl3  3.0.7-r0  CVE-2022-3996         HIGH   \n0   frontend-7  libcrypto3  3.0.7-r0  CVE-2022-3996         HIGH   \n0   frontend-7     libssl3  3.0.7-r0  CVE-2022-3996         HIGH   \n0  frontend-14  libcrypto3  3.0.7-r0  CVE-2022-3996         HIGH   \n0  frontend-14     libssl3  3.0.7-r0  CVE-2022-3996         HIGH   \n0  frontend-15  libcrypto3  3.0.7-r0  CVE-2022-3996         HIGH   \n0  frontend-15     libssl3  3.0.7-r0  CVE-2022-3996         HIGH   \n0   frontend-8  libcrypto3  3.0.7-r0  CVE-2022-3996         HIGH   \n0   frontend-8     libssl3  3.0.7-r0  CVE-2022-3996         HIGH   \n0  frontend-10  libcrypto3  3.0.7-r0  CVE-2022-3996         HIGH   \n0  frontend-10     libssl3  3.0.7-r0  CVE-2022-3996         HIGH   \n0   frontend-9  libcrypto3  3.0.7-r0  CVE-2022-3996         HIGH   \n0   frontend-9     libssl3  3.0.7-r0  CVE-2022-3996         HIGH   \n0  frontend-12  libcrypto3  3.0.7-r0  CVE-2022-3996         HIGH   \n0  frontend-12     libssl3  3.0.7-r0  CVE-2022-3996         HIGH   \n0   frontend-2  libcrypto3  3.0.7-r0  CVE-2022-3996         HIGH   \n0   frontend-2     libssl3  3.0.7-r0  CVE-2022-3996         HIGH   \n0   frontend-1  libcrypto3  3.0.7-r0  CVE-2022-3996         HIGH   \n0   frontend-1     libssl3  3.0.7-r0  CVE-2022-3996         HIGH   \n0  frontend-13  libcrypto3  3.0.7-r0  CVE-2022-3996         HIGH   \n0  frontend-13     libssl3  3.0.7-r0  CVE-2022-3996         HIGH   \n\n                                           CVE-Title  \\\n0  openssl: double locking leads to denial of ser...   \n0  openssl: double locking leads to denial of ser...   \n0  openssl: double locking leads to denial of ser...   \n0  openssl: double locking leads to denial of ser...   \n0  openssl: double locking leads to denial of ser...   \n0  openssl: double locking leads to denial of ser...   \n0  openssl: double locking leads to denial of ser...   \n0  openssl: double locking leads to denial of ser...   \n0  openssl: double locking leads to denial of ser...   \n0  openssl: double locking leads to denial of ser...   \n0  openssl: double locking leads to denial of ser...   \n0  openssl: double locking leads to denial of ser...   \n0  openssl: double locking leads to denial of ser...   \n0  openssl: double locking leads to denial of ser...   \n0  openssl: double locking leads to denial of ser...   \n0  openssl: double locking leads to denial of ser...   \n0  openssl: double locking leads to denial of ser...   \n0  openssl: double locking leads to denial of ser...   \n0  openssl: double locking leads to denial of ser...   \n0  openssl: double locking leads to denial of ser...   \n0  openssl: double locking leads to denial of ser...   \n0  openssl: double locking leads to denial of ser...   \n0  openssl: double locking leads to denial of ser...   \n0  openssl: double locking leads to denial of ser...   \n0  openssl: double locking leads to denial of ser...   \n0  openssl: double locking leads to denial of ser...   \n0  openssl: double locking leads to denial of ser...   \n0  openssl: double locking leads to denial of ser...   \n0  openssl: double locking leads to denial of ser...   \n0  openssl: double locking leads to denial of ser...   \n\n                                                CVSS  \n0  {'nvd': {'V3Vector': 'CVSS:3.1/AV:N/AC:L/PR:N/...  \n0  {'nvd': {'V3Vector': 'CVSS:3.1/AV:N/AC:L/PR:N/...  \n0  {'nvd': {'V3Vector': 'CVSS:3.1/AV:N/AC:L/PR:N/...  \n0  {'nvd': {'V3Vector': 'CVSS:3.1/AV:N/AC:L/PR:N/...  \n0  {'nvd': {'V3Vector': 'CVSS:3.1/AV:N/AC:L/PR:N/...  \n0  {'nvd': {'V3Vector': 'CVSS:3.1/AV:N/AC:L/PR:N/...  \n0  {'nvd': {'V3Vector': 'CVSS:3.1/AV:N/AC:L/PR:N/...  \n0  {'nvd': {'V3Vector': 'CVSS:3.1/AV:N/AC:L/PR:N/...  \n0  {'nvd': {'V3Vector': 'CVSS:3.1/AV:N/AC:L/PR:N/...  \n0  {'nvd': {'V3Vector': 'CVSS:3.1/AV:N/AC:L/PR:N/...  \n0  {'nvd': {'V3Vector': 'CVSS:3.1/AV:N/AC:L/PR:N/...  \n0  {'nvd': {'V3Vector': 'CVSS:3.1/AV:N/AC:L/PR:N/...  \n0  {'nvd': {'V3Vector': 'CVSS:3.1/AV:N/AC:L/PR:N/...  \n0  {'nvd': {'V3Vector': 'CVSS:3.1/AV:N/AC:L/PR:N/...  \n0  {'nvd': {'V3Vector': 'CVSS:3.1/AV:N/AC:L/PR:N/...  \n0  {'nvd': {'V3Vector': 'CVSS:3.1/AV:N/AC:L/PR:N/...  \n0  {'nvd': {'V3Vector': 'CVSS:3.1/AV:N/AC:L/PR:N/...  \n0  {'nvd': {'V3Vector': 'CVSS:3.1/AV:N/AC:L/PR:N/...  \n0  {'nvd': {'V3Vector': 'CVSS:3.1/AV:N/AC:L/PR:N/...  \n0  {'nvd': {'V3Vector': 'CVSS:3.1/AV:N/AC:L/PR:N/...  \n0  {'nvd': {'V3Vector': 'CVSS:3.1/AV:N/AC:L/PR:N/...  \n0  {'nvd': {'V3Vector': 'CVSS:3.1/AV:N/AC:L/PR:N/...  \n0  {'nvd': {'V3Vector': 'CVSS:3.1/AV:N/AC:L/PR:N/...  \n0  {'nvd': {'V3Vector': 'CVSS:3.1/AV:N/AC:L/PR:N/...  \n0  {'nvd': {'V3Vector': 'CVSS:3.1/AV:N/AC:L/PR:N/...  \n0  {'nvd': {'V3Vector': 'CVSS:3.1/AV:N/AC:L/PR:N/...  \n0  {'nvd': {'V3Vector': 'CVSS:3.1/AV:N/AC:L/PR:N/...  \n0  {'nvd': {'V3Vector': 'CVSS:3.1/AV:N/AC:L/PR:N/...  \n0  {'nvd': {'V3Vector': 'CVSS:3.1/AV:N/AC:L/PR:N/...  \n0  {'nvd': {'V3Vector': 'CVSS:3.1/AV:N/AC:L/PR:N/...  ",
      "text/html": "<div>\n<style scoped>\n    .dataframe tbody tr th:only-of-type {\n        vertical-align: middle;\n    }\n\n    .dataframe tbody tr th {\n        vertical-align: top;\n    }\n\n    .dataframe thead th {\n        text-align: right;\n    }\n</style>\n<table border=\"1\" class=\"dataframe\">\n  <thead>\n    <tr style=\"text-align: right;\">\n      <th></th>\n      <th>Pod-ID</th>\n      <th>Software</th>\n      <th>Version</th>\n      <th>CVE-ID</th>\n      <th>CVE-Severity</th>\n      <th>CVE-Title</th>\n      <th>CVSS</th>\n    </tr>\n  </thead>\n  <tbody>\n    <tr>\n      <th>0</th>\n      <td>frontend-6</td>\n      <td>libcrypto3</td>\n      <td>3.0.7-r0</td>\n      <td>CVE-2022-3996</td>\n      <td>HIGH</td>\n      <td>openssl: double locking leads to denial of ser...</td>\n      <td>{'nvd': {'V3Vector': 'CVSS:3.1/AV:N/AC:L/PR:N/...</td>\n    </tr>\n    <tr>\n      <th>0</th>\n      <td>frontend-6</td>\n      <td>libssl3</td>\n      <td>3.0.7-r0</td>\n      <td>CVE-2022-3996</td>\n      <td>HIGH</td>\n      <td>openssl: double locking leads to denial of ser...</td>\n      <td>{'nvd': {'V3Vector': 'CVSS:3.1/AV:N/AC:L/PR:N/...</td>\n    </tr>\n    <tr>\n      <th>0</th>\n      <td>frontend-4</td>\n      <td>libcrypto3</td>\n      <td>3.0.7-r0</td>\n      <td>CVE-2022-3996</td>\n      <td>HIGH</td>\n      <td>openssl: double locking leads to denial of ser...</td>\n      <td>{'nvd': {'V3Vector': 'CVSS:3.1/AV:N/AC:L/PR:N/...</td>\n    </tr>\n    <tr>\n      <th>0</th>\n      <td>frontend-4</td>\n      <td>libssl3</td>\n      <td>3.0.7-r0</td>\n      <td>CVE-2022-3996</td>\n      <td>HIGH</td>\n      <td>openssl: double locking leads to denial of ser...</td>\n      <td>{'nvd': {'V3Vector': 'CVSS:3.1/AV:N/AC:L/PR:N/...</td>\n    </tr>\n    <tr>\n      <th>0</th>\n      <td>frontend-3</td>\n      <td>libcrypto3</td>\n      <td>3.0.7-r0</td>\n      <td>CVE-2022-3996</td>\n      <td>HIGH</td>\n      <td>openssl: double locking leads to denial of ser...</td>\n      <td>{'nvd': {'V3Vector': 'CVSS:3.1/AV:N/AC:L/PR:N/...</td>\n    </tr>\n    <tr>\n      <th>0</th>\n      <td>frontend-3</td>\n      <td>libssl3</td>\n      <td>3.0.7-r0</td>\n      <td>CVE-2022-3996</td>\n      <td>HIGH</td>\n      <td>openssl: double locking leads to denial of ser...</td>\n      <td>{'nvd': {'V3Vector': 'CVSS:3.1/AV:N/AC:L/PR:N/...</td>\n    </tr>\n    <tr>\n      <th>0</th>\n      <td>frontend-5</td>\n      <td>libcrypto3</td>\n      <td>3.0.7-r0</td>\n      <td>CVE-2022-3996</td>\n      <td>HIGH</td>\n      <td>openssl: double locking leads to denial of ser...</td>\n      <td>{'nvd': {'V3Vector': 'CVSS:3.1/AV:N/AC:L/PR:N/...</td>\n    </tr>\n    <tr>\n      <th>0</th>\n      <td>frontend-5</td>\n      <td>libssl3</td>\n      <td>3.0.7-r0</td>\n      <td>CVE-2022-3996</td>\n      <td>HIGH</td>\n      <td>openssl: double locking leads to denial of ser...</td>\n      <td>{'nvd': {'V3Vector': 'CVSS:3.1/AV:N/AC:L/PR:N/...</td>\n    </tr>\n    <tr>\n      <th>0</th>\n      <td>frontend-11</td>\n      <td>libcrypto3</td>\n      <td>3.0.7-r0</td>\n      <td>CVE-2022-3996</td>\n      <td>HIGH</td>\n      <td>openssl: double locking leads to denial of ser...</td>\n      <td>{'nvd': {'V3Vector': 'CVSS:3.1/AV:N/AC:L/PR:N/...</td>\n    </tr>\n    <tr>\n      <th>0</th>\n      <td>frontend-11</td>\n      <td>libssl3</td>\n      <td>3.0.7-r0</td>\n      <td>CVE-2022-3996</td>\n      <td>HIGH</td>\n      <td>openssl: double locking leads to denial of ser...</td>\n      <td>{'nvd': {'V3Vector': 'CVSS:3.1/AV:N/AC:L/PR:N/...</td>\n    </tr>\n    <tr>\n      <th>0</th>\n      <td>frontend-7</td>\n      <td>libcrypto3</td>\n      <td>3.0.7-r0</td>\n      <td>CVE-2022-3996</td>\n      <td>HIGH</td>\n      <td>openssl: double locking leads to denial of ser...</td>\n      <td>{'nvd': {'V3Vector': 'CVSS:3.1/AV:N/AC:L/PR:N/...</td>\n    </tr>\n    <tr>\n      <th>0</th>\n      <td>frontend-7</td>\n      <td>libssl3</td>\n      <td>3.0.7-r0</td>\n      <td>CVE-2022-3996</td>\n      <td>HIGH</td>\n      <td>openssl: double locking leads to denial of ser...</td>\n      <td>{'nvd': {'V3Vector': 'CVSS:3.1/AV:N/AC:L/PR:N/...</td>\n    </tr>\n    <tr>\n      <th>0</th>\n      <td>frontend-14</td>\n      <td>libcrypto3</td>\n      <td>3.0.7-r0</td>\n      <td>CVE-2022-3996</td>\n      <td>HIGH</td>\n      <td>openssl: double locking leads to denial of ser...</td>\n      <td>{'nvd': {'V3Vector': 'CVSS:3.1/AV:N/AC:L/PR:N/...</td>\n    </tr>\n    <tr>\n      <th>0</th>\n      <td>frontend-14</td>\n      <td>libssl3</td>\n      <td>3.0.7-r0</td>\n      <td>CVE-2022-3996</td>\n      <td>HIGH</td>\n      <td>openssl: double locking leads to denial of ser...</td>\n      <td>{'nvd': {'V3Vector': 'CVSS:3.1/AV:N/AC:L/PR:N/...</td>\n    </tr>\n    <tr>\n      <th>0</th>\n      <td>frontend-15</td>\n      <td>libcrypto3</td>\n      <td>3.0.7-r0</td>\n      <td>CVE-2022-3996</td>\n      <td>HIGH</td>\n      <td>openssl: double locking leads to denial of ser...</td>\n      <td>{'nvd': {'V3Vector': 'CVSS:3.1/AV:N/AC:L/PR:N/...</td>\n    </tr>\n    <tr>\n      <th>0</th>\n      <td>frontend-15</td>\n      <td>libssl3</td>\n      <td>3.0.7-r0</td>\n      <td>CVE-2022-3996</td>\n      <td>HIGH</td>\n      <td>openssl: double locking leads to denial of ser...</td>\n      <td>{'nvd': {'V3Vector': 'CVSS:3.1/AV:N/AC:L/PR:N/...</td>\n    </tr>\n    <tr>\n      <th>0</th>\n      <td>frontend-8</td>\n      <td>libcrypto3</td>\n      <td>3.0.7-r0</td>\n      <td>CVE-2022-3996</td>\n      <td>HIGH</td>\n      <td>openssl: double locking leads to denial of ser...</td>\n      <td>{'nvd': {'V3Vector': 'CVSS:3.1/AV:N/AC:L/PR:N/...</td>\n    </tr>\n    <tr>\n      <th>0</th>\n      <td>frontend-8</td>\n      <td>libssl3</td>\n      <td>3.0.7-r0</td>\n      <td>CVE-2022-3996</td>\n      <td>HIGH</td>\n      <td>openssl: double locking leads to denial of ser...</td>\n      <td>{'nvd': {'V3Vector': 'CVSS:3.1/AV:N/AC:L/PR:N/...</td>\n    </tr>\n    <tr>\n      <th>0</th>\n      <td>frontend-10</td>\n      <td>libcrypto3</td>\n      <td>3.0.7-r0</td>\n      <td>CVE-2022-3996</td>\n      <td>HIGH</td>\n      <td>openssl: double locking leads to denial of ser...</td>\n      <td>{'nvd': {'V3Vector': 'CVSS:3.1/AV:N/AC:L/PR:N/...</td>\n    </tr>\n    <tr>\n      <th>0</th>\n      <td>frontend-10</td>\n      <td>libssl3</td>\n      <td>3.0.7-r0</td>\n      <td>CVE-2022-3996</td>\n      <td>HIGH</td>\n      <td>openssl: double locking leads to denial of ser...</td>\n      <td>{'nvd': {'V3Vector': 'CVSS:3.1/AV:N/AC:L/PR:N/...</td>\n    </tr>\n    <tr>\n      <th>0</th>\n      <td>frontend-9</td>\n      <td>libcrypto3</td>\n      <td>3.0.7-r0</td>\n      <td>CVE-2022-3996</td>\n      <td>HIGH</td>\n      <td>openssl: double locking leads to denial of ser...</td>\n      <td>{'nvd': {'V3Vector': 'CVSS:3.1/AV:N/AC:L/PR:N/...</td>\n    </tr>\n    <tr>\n      <th>0</th>\n      <td>frontend-9</td>\n      <td>libssl3</td>\n      <td>3.0.7-r0</td>\n      <td>CVE-2022-3996</td>\n      <td>HIGH</td>\n      <td>openssl: double locking leads to denial of ser...</td>\n      <td>{'nvd': {'V3Vector': 'CVSS:3.1/AV:N/AC:L/PR:N/...</td>\n    </tr>\n    <tr>\n      <th>0</th>\n      <td>frontend-12</td>\n      <td>libcrypto3</td>\n      <td>3.0.7-r0</td>\n      <td>CVE-2022-3996</td>\n      <td>HIGH</td>\n      <td>openssl: double locking leads to denial of ser...</td>\n      <td>{'nvd': {'V3Vector': 'CVSS:3.1/AV:N/AC:L/PR:N/...</td>\n    </tr>\n    <tr>\n      <th>0</th>\n      <td>frontend-12</td>\n      <td>libssl3</td>\n      <td>3.0.7-r0</td>\n      <td>CVE-2022-3996</td>\n      <td>HIGH</td>\n      <td>openssl: double locking leads to denial of ser...</td>\n      <td>{'nvd': {'V3Vector': 'CVSS:3.1/AV:N/AC:L/PR:N/...</td>\n    </tr>\n    <tr>\n      <th>0</th>\n      <td>frontend-2</td>\n      <td>libcrypto3</td>\n      <td>3.0.7-r0</td>\n      <td>CVE-2022-3996</td>\n      <td>HIGH</td>\n      <td>openssl: double locking leads to denial of ser...</td>\n      <td>{'nvd': {'V3Vector': 'CVSS:3.1/AV:N/AC:L/PR:N/...</td>\n    </tr>\n    <tr>\n      <th>0</th>\n      <td>frontend-2</td>\n      <td>libssl3</td>\n      <td>3.0.7-r0</td>\n      <td>CVE-2022-3996</td>\n      <td>HIGH</td>\n      <td>openssl: double locking leads to denial of ser...</td>\n      <td>{'nvd': {'V3Vector': 'CVSS:3.1/AV:N/AC:L/PR:N/...</td>\n    </tr>\n    <tr>\n      <th>0</th>\n      <td>frontend-1</td>\n      <td>libcrypto3</td>\n      <td>3.0.7-r0</td>\n      <td>CVE-2022-3996</td>\n      <td>HIGH</td>\n      <td>openssl: double locking leads to denial of ser...</td>\n      <td>{'nvd': {'V3Vector': 'CVSS:3.1/AV:N/AC:L/PR:N/...</td>\n    </tr>\n    <tr>\n      <th>0</th>\n      <td>frontend-1</td>\n      <td>libssl3</td>\n      <td>3.0.7-r0</td>\n      <td>CVE-2022-3996</td>\n      <td>HIGH</td>\n      <td>openssl: double locking leads to denial of ser...</td>\n      <td>{'nvd': {'V3Vector': 'CVSS:3.1/AV:N/AC:L/PR:N/...</td>\n    </tr>\n    <tr>\n      <th>0</th>\n      <td>frontend-13</td>\n      <td>libcrypto3</td>\n      <td>3.0.7-r0</td>\n      <td>CVE-2022-3996</td>\n      <td>HIGH</td>\n      <td>openssl: double locking leads to denial of ser...</td>\n      <td>{'nvd': {'V3Vector': 'CVSS:3.1/AV:N/AC:L/PR:N/...</td>\n    </tr>\n    <tr>\n      <th>0</th>\n      <td>frontend-13</td>\n      <td>libssl3</td>\n      <td>3.0.7-r0</td>\n      <td>CVE-2022-3996</td>\n      <td>HIGH</td>\n      <td>openssl: double locking leads to denial of ser...</td>\n      <td>{'nvd': {'V3Vector': 'CVSS:3.1/AV:N/AC:L/PR:N/...</td>\n    </tr>\n  </tbody>\n</table>\n</div>"
     },
     "execution_count": 27,
     "metadata": {},
     "output_type": "execute_result"
    }
   ],
   "source": [
    "df_vuln_frontend2 = get_cve_df_for_service(\"frontend\")\n",
    "df_vuln_frontend2"
   ],
   "metadata": {
    "collapsed": false,
    "ExecuteTime": {
     "end_time": "2024-04-04T09:43:44.161035Z",
     "start_time": "2024-04-04T09:43:44.048788Z"
    }
   },
   "id": "1a62bca4eb355730",
   "execution_count": 27
  },
  {
   "cell_type": "markdown",
   "source": [
    "# CVE Data for Services"
   ],
   "metadata": {
    "collapsed": false
   },
   "id": "201b8b2f4a182a68"
  },
  {
   "cell_type": "markdown",
   "source": [
    "## Cart & Redis Services"
   ],
   "metadata": {
    "collapsed": false
   },
   "id": "c30e095700505416"
  },
  {
   "cell_type": "code",
   "outputs": [
    {
     "data": {
      "text/plain": "          Pod-ID          Software                             Version  \\\n0  cartservice-1  golang.org/x/net  v0.0.0-20220906165146-f3363e06e74c   \n0  cartservice-1  golang.org/x/net  v0.0.0-20220906165146-f3363e06e74c   \n\n           CVE-ID CVE-Severity  \\\n0  CVE-2022-41717       MEDIUM   \n0  CVE-2022-41721      UNKNOWN   \n\n                                           CVE-Title  \\\n0  An attacker can cause excessive memory growth ...   \n0                                               None   \n\n                                                CVSS  \n0  {'nvd': {'V3Vector': 'CVSS:3.1/AV:N/AC:L/PR:N/...  \n0                                               None  ",
      "text/html": "<div>\n<style scoped>\n    .dataframe tbody tr th:only-of-type {\n        vertical-align: middle;\n    }\n\n    .dataframe tbody tr th {\n        vertical-align: top;\n    }\n\n    .dataframe thead th {\n        text-align: right;\n    }\n</style>\n<table border=\"1\" class=\"dataframe\">\n  <thead>\n    <tr style=\"text-align: right;\">\n      <th></th>\n      <th>Pod-ID</th>\n      <th>Software</th>\n      <th>Version</th>\n      <th>CVE-ID</th>\n      <th>CVE-Severity</th>\n      <th>CVE-Title</th>\n      <th>CVSS</th>\n    </tr>\n  </thead>\n  <tbody>\n    <tr>\n      <th>0</th>\n      <td>cartservice-1</td>\n      <td>golang.org/x/net</td>\n      <td>v0.0.0-20220906165146-f3363e06e74c</td>\n      <td>CVE-2022-41717</td>\n      <td>MEDIUM</td>\n      <td>An attacker can cause excessive memory growth ...</td>\n      <td>{'nvd': {'V3Vector': 'CVSS:3.1/AV:N/AC:L/PR:N/...</td>\n    </tr>\n    <tr>\n      <th>0</th>\n      <td>cartservice-1</td>\n      <td>golang.org/x/net</td>\n      <td>v0.0.0-20220906165146-f3363e06e74c</td>\n      <td>CVE-2022-41721</td>\n      <td>UNKNOWN</td>\n      <td>None</td>\n      <td>None</td>\n    </tr>\n  </tbody>\n</table>\n</div>"
     },
     "execution_count": 28,
     "metadata": {},
     "output_type": "execute_result"
    }
   ],
   "source": [
    "df_vuln_cart = get_cve_df_for_service(\"cart\")\n",
    "df_vuln_cart"
   ],
   "metadata": {
    "collapsed": false,
    "ExecuteTime": {
     "end_time": "2024-04-04T09:43:56.590671Z",
     "start_time": "2024-04-04T09:43:56.508535Z"
    }
   },
   "id": "e22c3d5d7ad8bf6",
   "execution_count": 28
  },
  {
   "cell_type": "code",
   "outputs": [
    {
     "data": {
      "text/plain": "Empty DataFrame\nColumns: [Pod-ID, Software, Version, CVE-ID, CVE-Severity, CVE-Title, CVSS]\nIndex: []",
      "text/html": "<div>\n<style scoped>\n    .dataframe tbody tr th:only-of-type {\n        vertical-align: middle;\n    }\n\n    .dataframe tbody tr th {\n        vertical-align: top;\n    }\n\n    .dataframe thead th {\n        text-align: right;\n    }\n</style>\n<table border=\"1\" class=\"dataframe\">\n  <thead>\n    <tr style=\"text-align: right;\">\n      <th></th>\n      <th>Pod-ID</th>\n      <th>Software</th>\n      <th>Version</th>\n      <th>CVE-ID</th>\n      <th>CVE-Severity</th>\n      <th>CVE-Title</th>\n      <th>CVSS</th>\n    </tr>\n  </thead>\n  <tbody>\n  </tbody>\n</table>\n</div>"
     },
     "execution_count": 29,
     "metadata": {},
     "output_type": "execute_result"
    }
   ],
   "source": [
    "df_vuln_redis = get_cve_df_for_service(\"redis\")\n",
    "df_vuln_redis"
   ],
   "metadata": {
    "collapsed": false,
    "ExecuteTime": {
     "end_time": "2024-04-04T09:43:59.554280Z",
     "start_time": "2024-04-04T09:43:59.484057Z"
    }
   },
   "id": "7fe37764c8ad0031",
   "execution_count": 29
  },
  {
   "cell_type": "markdown",
   "source": [
    "## Recommendation Service"
   ],
   "metadata": {
    "collapsed": false
   },
   "id": "63b0d0f3369322b6"
  },
  {
   "cell_type": "code",
   "outputs": [],
   "source": [
    "df_vuln_recommend = get_cve_df_for_service(\"recommendation\")"
   ],
   "metadata": {
    "collapsed": false,
    "ExecuteTime": {
     "end_time": "2024-04-04T09:44:16.355654Z",
     "start_time": "2024-04-04T09:44:14.890710Z"
    }
   },
   "id": "5fa61eb628a19343",
   "execution_count": 30
  },
  {
   "cell_type": "code",
   "outputs": [
    {
     "data": {
      "text/plain": "                      Pod-ID          Software  \\\n0    recommendationservice-7               apt   \n0    recommendationservice-7              bash   \n0    recommendationservice-7          bsdutils   \n0    recommendationservice-7         coreutils   \n0    recommendationservice-7         coreutils   \n..                       ...               ...   \n0   recommendationservice-10               tar   \n0   recommendationservice-10        util-linux   \n0   recommendationservice-10        setuptools   \n0   recommendationservice-10  golang.org/x/net   \n0   recommendationservice-10  golang.org/x/net   \n\n                               Version          CVE-ID CVE-Severity  \\\n0                                2.2.4   CVE-2011-3374          LOW   \n0                        5.1-2+deb11u1   CVE-2022-3715         HIGH   \n0                     2.36.1-8+deb11u1   CVE-2022-0563          LOW   \n0                               8.32-4   CVE-2016-2781          LOW   \n0                               8.32-4  CVE-2017-18018          LOW   \n..                                 ...             ...          ...   \n0                          1.34+dfsg-1   CVE-2005-2541          LOW   \n0                     2.36.1-8+deb11u1   CVE-2022-0563          LOW   \n0                               63.2.0  CVE-2022-40897         HIGH   \n0   v0.0.0-20220906165146-f3363e06e74c  CVE-2022-41717       MEDIUM   \n0   v0.0.0-20220906165146-f3363e06e74c  CVE-2022-41721      UNKNOWN   \n\n                                            CVE-Title  \\\n0   It was found that apt-key in apt, all versions...   \n0   bash: a heap-buffer-overflow in valid_paramete...   \n0   util-linux: partial disclosure of arbitrary fi...   \n0   coreutils: Non-privileged session can escape t...   \n0   coreutils: race condition vulnerability in cho...   \n..                                                ...   \n0   tar: does not properly warn the user when extr...   \n0   util-linux: partial disclosure of arbitrary fi...   \n0   pypa-setuptools: Regular Expression Denial of ...   \n0   An attacker can cause excessive memory growth ...   \n0                                                None   \n\n                                                 CVSS  \n0   {'nvd': {'V2Vector': 'AV:N/AC:M/Au:N/C:N/I:P/A...  \n0   {'nvd': {'V3Vector': 'CVSS:3.1/AV:L/AC:L/PR:L/...  \n0   {'nvd': {'V2Vector': 'AV:L/AC:M/Au:N/C:P/I:N/A...  \n0   {'nvd': {'V2Vector': 'AV:L/AC:L/Au:N/C:N/I:P/A...  \n0   {'nvd': {'V2Vector': 'AV:L/AC:M/Au:N/C:N/I:P/A...  \n..                                                ...  \n0   {'nvd': {'V2Vector': 'AV:N/AC:L/Au:N/C:C/I:C/A...  \n0   {'nvd': {'V2Vector': 'AV:L/AC:M/Au:N/C:P/I:N/A...  \n0   {'ghsa': {'V3Vector': 'CVSS:3.1/AV:N/AC:L/PR:N...  \n0   {'nvd': {'V3Vector': 'CVSS:3.1/AV:N/AC:L/PR:N/...  \n0                                                None  \n\n[910 rows x 7 columns]",
      "text/html": "<div>\n<style scoped>\n    .dataframe tbody tr th:only-of-type {\n        vertical-align: middle;\n    }\n\n    .dataframe tbody tr th {\n        vertical-align: top;\n    }\n\n    .dataframe thead th {\n        text-align: right;\n    }\n</style>\n<table border=\"1\" class=\"dataframe\">\n  <thead>\n    <tr style=\"text-align: right;\">\n      <th></th>\n      <th>Pod-ID</th>\n      <th>Software</th>\n      <th>Version</th>\n      <th>CVE-ID</th>\n      <th>CVE-Severity</th>\n      <th>CVE-Title</th>\n      <th>CVSS</th>\n    </tr>\n  </thead>\n  <tbody>\n    <tr>\n      <th>0</th>\n      <td>recommendationservice-7</td>\n      <td>apt</td>\n      <td>2.2.4</td>\n      <td>CVE-2011-3374</td>\n      <td>LOW</td>\n      <td>It was found that apt-key in apt, all versions...</td>\n      <td>{'nvd': {'V2Vector': 'AV:N/AC:M/Au:N/C:N/I:P/A...</td>\n    </tr>\n    <tr>\n      <th>0</th>\n      <td>recommendationservice-7</td>\n      <td>bash</td>\n      <td>5.1-2+deb11u1</td>\n      <td>CVE-2022-3715</td>\n      <td>HIGH</td>\n      <td>bash: a heap-buffer-overflow in valid_paramete...</td>\n      <td>{'nvd': {'V3Vector': 'CVSS:3.1/AV:L/AC:L/PR:L/...</td>\n    </tr>\n    <tr>\n      <th>0</th>\n      <td>recommendationservice-7</td>\n      <td>bsdutils</td>\n      <td>2.36.1-8+deb11u1</td>\n      <td>CVE-2022-0563</td>\n      <td>LOW</td>\n      <td>util-linux: partial disclosure of arbitrary fi...</td>\n      <td>{'nvd': {'V2Vector': 'AV:L/AC:M/Au:N/C:P/I:N/A...</td>\n    </tr>\n    <tr>\n      <th>0</th>\n      <td>recommendationservice-7</td>\n      <td>coreutils</td>\n      <td>8.32-4</td>\n      <td>CVE-2016-2781</td>\n      <td>LOW</td>\n      <td>coreutils: Non-privileged session can escape t...</td>\n      <td>{'nvd': {'V2Vector': 'AV:L/AC:L/Au:N/C:N/I:P/A...</td>\n    </tr>\n    <tr>\n      <th>0</th>\n      <td>recommendationservice-7</td>\n      <td>coreutils</td>\n      <td>8.32-4</td>\n      <td>CVE-2017-18018</td>\n      <td>LOW</td>\n      <td>coreutils: race condition vulnerability in cho...</td>\n      <td>{'nvd': {'V2Vector': 'AV:L/AC:M/Au:N/C:N/I:P/A...</td>\n    </tr>\n    <tr>\n      <th>...</th>\n      <td>...</td>\n      <td>...</td>\n      <td>...</td>\n      <td>...</td>\n      <td>...</td>\n      <td>...</td>\n      <td>...</td>\n    </tr>\n    <tr>\n      <th>0</th>\n      <td>recommendationservice-10</td>\n      <td>tar</td>\n      <td>1.34+dfsg-1</td>\n      <td>CVE-2005-2541</td>\n      <td>LOW</td>\n      <td>tar: does not properly warn the user when extr...</td>\n      <td>{'nvd': {'V2Vector': 'AV:N/AC:L/Au:N/C:C/I:C/A...</td>\n    </tr>\n    <tr>\n      <th>0</th>\n      <td>recommendationservice-10</td>\n      <td>util-linux</td>\n      <td>2.36.1-8+deb11u1</td>\n      <td>CVE-2022-0563</td>\n      <td>LOW</td>\n      <td>util-linux: partial disclosure of arbitrary fi...</td>\n      <td>{'nvd': {'V2Vector': 'AV:L/AC:M/Au:N/C:P/I:N/A...</td>\n    </tr>\n    <tr>\n      <th>0</th>\n      <td>recommendationservice-10</td>\n      <td>setuptools</td>\n      <td>63.2.0</td>\n      <td>CVE-2022-40897</td>\n      <td>HIGH</td>\n      <td>pypa-setuptools: Regular Expression Denial of ...</td>\n      <td>{'ghsa': {'V3Vector': 'CVSS:3.1/AV:N/AC:L/PR:N...</td>\n    </tr>\n    <tr>\n      <th>0</th>\n      <td>recommendationservice-10</td>\n      <td>golang.org/x/net</td>\n      <td>v0.0.0-20220906165146-f3363e06e74c</td>\n      <td>CVE-2022-41717</td>\n      <td>MEDIUM</td>\n      <td>An attacker can cause excessive memory growth ...</td>\n      <td>{'nvd': {'V3Vector': 'CVSS:3.1/AV:N/AC:L/PR:N/...</td>\n    </tr>\n    <tr>\n      <th>0</th>\n      <td>recommendationservice-10</td>\n      <td>golang.org/x/net</td>\n      <td>v0.0.0-20220906165146-f3363e06e74c</td>\n      <td>CVE-2022-41721</td>\n      <td>UNKNOWN</td>\n      <td>None</td>\n      <td>None</td>\n    </tr>\n  </tbody>\n</table>\n<p>910 rows × 7 columns</p>\n</div>"
     },
     "execution_count": 31,
     "metadata": {},
     "output_type": "execute_result"
    }
   ],
   "source": [
    "df_vuln_recommend"
   ],
   "metadata": {
    "collapsed": false,
    "ExecuteTime": {
     "end_time": "2024-04-04T09:44:17.665874Z",
     "start_time": "2024-04-04T09:44:17.644732Z"
    }
   },
   "id": "29f517e4fb5f34af",
   "execution_count": 31
  },
  {
   "cell_type": "code",
   "outputs": [
    {
     "data": {
      "text/plain": "                     Pod-ID          Software  \\\n0   recommendationservice-7               apt   \n0   recommendationservice-7              bash   \n0   recommendationservice-7          bsdutils   \n0   recommendationservice-7         coreutils   \n0   recommendationservice-7         coreutils   \n..                      ...               ...   \n0   recommendationservice-7               tar   \n0   recommendationservice-7        util-linux   \n0   recommendationservice-7        setuptools   \n0   recommendationservice-7  golang.org/x/net   \n0   recommendationservice-7  golang.org/x/net   \n\n                               Version          CVE-ID CVE-Severity  \\\n0                                2.2.4   CVE-2011-3374          LOW   \n0                        5.1-2+deb11u1   CVE-2022-3715         HIGH   \n0                     2.36.1-8+deb11u1   CVE-2022-0563          LOW   \n0                               8.32-4   CVE-2016-2781          LOW   \n0                               8.32-4  CVE-2017-18018          LOW   \n..                                 ...             ...          ...   \n0                          1.34+dfsg-1   CVE-2005-2541          LOW   \n0                     2.36.1-8+deb11u1   CVE-2022-0563          LOW   \n0                               63.2.0  CVE-2022-40897         HIGH   \n0   v0.0.0-20220906165146-f3363e06e74c  CVE-2022-41717       MEDIUM   \n0   v0.0.0-20220906165146-f3363e06e74c  CVE-2022-41721      UNKNOWN   \n\n                                            CVE-Title  \\\n0   It was found that apt-key in apt, all versions...   \n0   bash: a heap-buffer-overflow in valid_paramete...   \n0   util-linux: partial disclosure of arbitrary fi...   \n0   coreutils: Non-privileged session can escape t...   \n0   coreutils: race condition vulnerability in cho...   \n..                                                ...   \n0   tar: does not properly warn the user when extr...   \n0   util-linux: partial disclosure of arbitrary fi...   \n0   pypa-setuptools: Regular Expression Denial of ...   \n0   An attacker can cause excessive memory growth ...   \n0                                                None   \n\n                                                 CVSS  \n0   {'nvd': {'V2Vector': 'AV:N/AC:M/Au:N/C:N/I:P/A...  \n0   {'nvd': {'V3Vector': 'CVSS:3.1/AV:L/AC:L/PR:L/...  \n0   {'nvd': {'V2Vector': 'AV:L/AC:M/Au:N/C:P/I:N/A...  \n0   {'nvd': {'V2Vector': 'AV:L/AC:L/Au:N/C:N/I:P/A...  \n0   {'nvd': {'V2Vector': 'AV:L/AC:M/Au:N/C:N/I:P/A...  \n..                                                ...  \n0   {'nvd': {'V2Vector': 'AV:N/AC:L/Au:N/C:C/I:C/A...  \n0   {'nvd': {'V2Vector': 'AV:L/AC:M/Au:N/C:P/I:N/A...  \n0   {'ghsa': {'V3Vector': 'CVSS:3.1/AV:N/AC:L/PR:N...  \n0   {'nvd': {'V3Vector': 'CVSS:3.1/AV:N/AC:L/PR:N/...  \n0                                                None  \n\n[91 rows x 7 columns]",
      "text/html": "<div>\n<style scoped>\n    .dataframe tbody tr th:only-of-type {\n        vertical-align: middle;\n    }\n\n    .dataframe tbody tr th {\n        vertical-align: top;\n    }\n\n    .dataframe thead th {\n        text-align: right;\n    }\n</style>\n<table border=\"1\" class=\"dataframe\">\n  <thead>\n    <tr style=\"text-align: right;\">\n      <th></th>\n      <th>Pod-ID</th>\n      <th>Software</th>\n      <th>Version</th>\n      <th>CVE-ID</th>\n      <th>CVE-Severity</th>\n      <th>CVE-Title</th>\n      <th>CVSS</th>\n    </tr>\n  </thead>\n  <tbody>\n    <tr>\n      <th>0</th>\n      <td>recommendationservice-7</td>\n      <td>apt</td>\n      <td>2.2.4</td>\n      <td>CVE-2011-3374</td>\n      <td>LOW</td>\n      <td>It was found that apt-key in apt, all versions...</td>\n      <td>{'nvd': {'V2Vector': 'AV:N/AC:M/Au:N/C:N/I:P/A...</td>\n    </tr>\n    <tr>\n      <th>0</th>\n      <td>recommendationservice-7</td>\n      <td>bash</td>\n      <td>5.1-2+deb11u1</td>\n      <td>CVE-2022-3715</td>\n      <td>HIGH</td>\n      <td>bash: a heap-buffer-overflow in valid_paramete...</td>\n      <td>{'nvd': {'V3Vector': 'CVSS:3.1/AV:L/AC:L/PR:L/...</td>\n    </tr>\n    <tr>\n      <th>0</th>\n      <td>recommendationservice-7</td>\n      <td>bsdutils</td>\n      <td>2.36.1-8+deb11u1</td>\n      <td>CVE-2022-0563</td>\n      <td>LOW</td>\n      <td>util-linux: partial disclosure of arbitrary fi...</td>\n      <td>{'nvd': {'V2Vector': 'AV:L/AC:M/Au:N/C:P/I:N/A...</td>\n    </tr>\n    <tr>\n      <th>0</th>\n      <td>recommendationservice-7</td>\n      <td>coreutils</td>\n      <td>8.32-4</td>\n      <td>CVE-2016-2781</td>\n      <td>LOW</td>\n      <td>coreutils: Non-privileged session can escape t...</td>\n      <td>{'nvd': {'V2Vector': 'AV:L/AC:L/Au:N/C:N/I:P/A...</td>\n    </tr>\n    <tr>\n      <th>0</th>\n      <td>recommendationservice-7</td>\n      <td>coreutils</td>\n      <td>8.32-4</td>\n      <td>CVE-2017-18018</td>\n      <td>LOW</td>\n      <td>coreutils: race condition vulnerability in cho...</td>\n      <td>{'nvd': {'V2Vector': 'AV:L/AC:M/Au:N/C:N/I:P/A...</td>\n    </tr>\n    <tr>\n      <th>...</th>\n      <td>...</td>\n      <td>...</td>\n      <td>...</td>\n      <td>...</td>\n      <td>...</td>\n      <td>...</td>\n      <td>...</td>\n    </tr>\n    <tr>\n      <th>0</th>\n      <td>recommendationservice-7</td>\n      <td>tar</td>\n      <td>1.34+dfsg-1</td>\n      <td>CVE-2005-2541</td>\n      <td>LOW</td>\n      <td>tar: does not properly warn the user when extr...</td>\n      <td>{'nvd': {'V2Vector': 'AV:N/AC:L/Au:N/C:C/I:C/A...</td>\n    </tr>\n    <tr>\n      <th>0</th>\n      <td>recommendationservice-7</td>\n      <td>util-linux</td>\n      <td>2.36.1-8+deb11u1</td>\n      <td>CVE-2022-0563</td>\n      <td>LOW</td>\n      <td>util-linux: partial disclosure of arbitrary fi...</td>\n      <td>{'nvd': {'V2Vector': 'AV:L/AC:M/Au:N/C:P/I:N/A...</td>\n    </tr>\n    <tr>\n      <th>0</th>\n      <td>recommendationservice-7</td>\n      <td>setuptools</td>\n      <td>63.2.0</td>\n      <td>CVE-2022-40897</td>\n      <td>HIGH</td>\n      <td>pypa-setuptools: Regular Expression Denial of ...</td>\n      <td>{'ghsa': {'V3Vector': 'CVSS:3.1/AV:N/AC:L/PR:N...</td>\n    </tr>\n    <tr>\n      <th>0</th>\n      <td>recommendationservice-7</td>\n      <td>golang.org/x/net</td>\n      <td>v0.0.0-20220906165146-f3363e06e74c</td>\n      <td>CVE-2022-41717</td>\n      <td>MEDIUM</td>\n      <td>An attacker can cause excessive memory growth ...</td>\n      <td>{'nvd': {'V3Vector': 'CVSS:3.1/AV:N/AC:L/PR:N/...</td>\n    </tr>\n    <tr>\n      <th>0</th>\n      <td>recommendationservice-7</td>\n      <td>golang.org/x/net</td>\n      <td>v0.0.0-20220906165146-f3363e06e74c</td>\n      <td>CVE-2022-41721</td>\n      <td>UNKNOWN</td>\n      <td>None</td>\n      <td>None</td>\n    </tr>\n  </tbody>\n</table>\n<p>91 rows × 7 columns</p>\n</div>"
     },
     "execution_count": 32,
     "metadata": {},
     "output_type": "execute_result"
    }
   ],
   "source": [
    "df_vuln_recommend.drop_duplicates(subset=df_vuln_recommend.columns.difference(['Pod-ID','CVSS']))"
   ],
   "metadata": {
    "collapsed": false,
    "ExecuteTime": {
     "end_time": "2024-04-04T09:44:25.553899Z",
     "start_time": "2024-04-04T09:44:25.532995Z"
    }
   },
   "id": "9fa88ebd6461dc9d",
   "execution_count": 32
  },
  {
   "cell_type": "markdown",
   "source": [
    "## Frontend"
   ],
   "metadata": {
    "collapsed": false
   },
   "id": "5668bab70314d7ff"
  },
  {
   "cell_type": "code",
   "outputs": [
    {
     "data": {
      "text/plain": "        Pod-ID    Software   Version         CVE-ID CVE-Severity  \\\n0   frontend-6  libcrypto3  3.0.7-r0  CVE-2022-3996         HIGH   \n0   frontend-6     libssl3  3.0.7-r0  CVE-2022-3996         HIGH   \n0   frontend-4  libcrypto3  3.0.7-r0  CVE-2022-3996         HIGH   \n0   frontend-4     libssl3  3.0.7-r0  CVE-2022-3996         HIGH   \n0   frontend-3  libcrypto3  3.0.7-r0  CVE-2022-3996         HIGH   \n0   frontend-3     libssl3  3.0.7-r0  CVE-2022-3996         HIGH   \n0   frontend-5  libcrypto3  3.0.7-r0  CVE-2022-3996         HIGH   \n0   frontend-5     libssl3  3.0.7-r0  CVE-2022-3996         HIGH   \n0  frontend-11  libcrypto3  3.0.7-r0  CVE-2022-3996         HIGH   \n0  frontend-11     libssl3  3.0.7-r0  CVE-2022-3996         HIGH   \n0   frontend-7  libcrypto3  3.0.7-r0  CVE-2022-3996         HIGH   \n0   frontend-7     libssl3  3.0.7-r0  CVE-2022-3996         HIGH   \n0  frontend-14  libcrypto3  3.0.7-r0  CVE-2022-3996         HIGH   \n0  frontend-14     libssl3  3.0.7-r0  CVE-2022-3996         HIGH   \n0  frontend-15  libcrypto3  3.0.7-r0  CVE-2022-3996         HIGH   \n0  frontend-15     libssl3  3.0.7-r0  CVE-2022-3996         HIGH   \n0   frontend-8  libcrypto3  3.0.7-r0  CVE-2022-3996         HIGH   \n0   frontend-8     libssl3  3.0.7-r0  CVE-2022-3996         HIGH   \n0  frontend-10  libcrypto3  3.0.7-r0  CVE-2022-3996         HIGH   \n0  frontend-10     libssl3  3.0.7-r0  CVE-2022-3996         HIGH   \n0   frontend-9  libcrypto3  3.0.7-r0  CVE-2022-3996         HIGH   \n0   frontend-9     libssl3  3.0.7-r0  CVE-2022-3996         HIGH   \n0  frontend-12  libcrypto3  3.0.7-r0  CVE-2022-3996         HIGH   \n0  frontend-12     libssl3  3.0.7-r0  CVE-2022-3996         HIGH   \n0   frontend-2  libcrypto3  3.0.7-r0  CVE-2022-3996         HIGH   \n0   frontend-2     libssl3  3.0.7-r0  CVE-2022-3996         HIGH   \n0   frontend-1  libcrypto3  3.0.7-r0  CVE-2022-3996         HIGH   \n0   frontend-1     libssl3  3.0.7-r0  CVE-2022-3996         HIGH   \n0  frontend-13  libcrypto3  3.0.7-r0  CVE-2022-3996         HIGH   \n0  frontend-13     libssl3  3.0.7-r0  CVE-2022-3996         HIGH   \n\n                                           CVE-Title  \\\n0  openssl: double locking leads to denial of ser...   \n0  openssl: double locking leads to denial of ser...   \n0  openssl: double locking leads to denial of ser...   \n0  openssl: double locking leads to denial of ser...   \n0  openssl: double locking leads to denial of ser...   \n0  openssl: double locking leads to denial of ser...   \n0  openssl: double locking leads to denial of ser...   \n0  openssl: double locking leads to denial of ser...   \n0  openssl: double locking leads to denial of ser...   \n0  openssl: double locking leads to denial of ser...   \n0  openssl: double locking leads to denial of ser...   \n0  openssl: double locking leads to denial of ser...   \n0  openssl: double locking leads to denial of ser...   \n0  openssl: double locking leads to denial of ser...   \n0  openssl: double locking leads to denial of ser...   \n0  openssl: double locking leads to denial of ser...   \n0  openssl: double locking leads to denial of ser...   \n0  openssl: double locking leads to denial of ser...   \n0  openssl: double locking leads to denial of ser...   \n0  openssl: double locking leads to denial of ser...   \n0  openssl: double locking leads to denial of ser...   \n0  openssl: double locking leads to denial of ser...   \n0  openssl: double locking leads to denial of ser...   \n0  openssl: double locking leads to denial of ser...   \n0  openssl: double locking leads to denial of ser...   \n0  openssl: double locking leads to denial of ser...   \n0  openssl: double locking leads to denial of ser...   \n0  openssl: double locking leads to denial of ser...   \n0  openssl: double locking leads to denial of ser...   \n0  openssl: double locking leads to denial of ser...   \n\n                                                CVSS  \n0  {'nvd': {'V3Vector': 'CVSS:3.1/AV:N/AC:L/PR:N/...  \n0  {'nvd': {'V3Vector': 'CVSS:3.1/AV:N/AC:L/PR:N/...  \n0  {'nvd': {'V3Vector': 'CVSS:3.1/AV:N/AC:L/PR:N/...  \n0  {'nvd': {'V3Vector': 'CVSS:3.1/AV:N/AC:L/PR:N/...  \n0  {'nvd': {'V3Vector': 'CVSS:3.1/AV:N/AC:L/PR:N/...  \n0  {'nvd': {'V3Vector': 'CVSS:3.1/AV:N/AC:L/PR:N/...  \n0  {'nvd': {'V3Vector': 'CVSS:3.1/AV:N/AC:L/PR:N/...  \n0  {'nvd': {'V3Vector': 'CVSS:3.1/AV:N/AC:L/PR:N/...  \n0  {'nvd': {'V3Vector': 'CVSS:3.1/AV:N/AC:L/PR:N/...  \n0  {'nvd': {'V3Vector': 'CVSS:3.1/AV:N/AC:L/PR:N/...  \n0  {'nvd': {'V3Vector': 'CVSS:3.1/AV:N/AC:L/PR:N/...  \n0  {'nvd': {'V3Vector': 'CVSS:3.1/AV:N/AC:L/PR:N/...  \n0  {'nvd': {'V3Vector': 'CVSS:3.1/AV:N/AC:L/PR:N/...  \n0  {'nvd': {'V3Vector': 'CVSS:3.1/AV:N/AC:L/PR:N/...  \n0  {'nvd': {'V3Vector': 'CVSS:3.1/AV:N/AC:L/PR:N/...  \n0  {'nvd': {'V3Vector': 'CVSS:3.1/AV:N/AC:L/PR:N/...  \n0  {'nvd': {'V3Vector': 'CVSS:3.1/AV:N/AC:L/PR:N/...  \n0  {'nvd': {'V3Vector': 'CVSS:3.1/AV:N/AC:L/PR:N/...  \n0  {'nvd': {'V3Vector': 'CVSS:3.1/AV:N/AC:L/PR:N/...  \n0  {'nvd': {'V3Vector': 'CVSS:3.1/AV:N/AC:L/PR:N/...  \n0  {'nvd': {'V3Vector': 'CVSS:3.1/AV:N/AC:L/PR:N/...  \n0  {'nvd': {'V3Vector': 'CVSS:3.1/AV:N/AC:L/PR:N/...  \n0  {'nvd': {'V3Vector': 'CVSS:3.1/AV:N/AC:L/PR:N/...  \n0  {'nvd': {'V3Vector': 'CVSS:3.1/AV:N/AC:L/PR:N/...  \n0  {'nvd': {'V3Vector': 'CVSS:3.1/AV:N/AC:L/PR:N/...  \n0  {'nvd': {'V3Vector': 'CVSS:3.1/AV:N/AC:L/PR:N/...  \n0  {'nvd': {'V3Vector': 'CVSS:3.1/AV:N/AC:L/PR:N/...  \n0  {'nvd': {'V3Vector': 'CVSS:3.1/AV:N/AC:L/PR:N/...  \n0  {'nvd': {'V3Vector': 'CVSS:3.1/AV:N/AC:L/PR:N/...  \n0  {'nvd': {'V3Vector': 'CVSS:3.1/AV:N/AC:L/PR:N/...  ",
      "text/html": "<div>\n<style scoped>\n    .dataframe tbody tr th:only-of-type {\n        vertical-align: middle;\n    }\n\n    .dataframe tbody tr th {\n        vertical-align: top;\n    }\n\n    .dataframe thead th {\n        text-align: right;\n    }\n</style>\n<table border=\"1\" class=\"dataframe\">\n  <thead>\n    <tr style=\"text-align: right;\">\n      <th></th>\n      <th>Pod-ID</th>\n      <th>Software</th>\n      <th>Version</th>\n      <th>CVE-ID</th>\n      <th>CVE-Severity</th>\n      <th>CVE-Title</th>\n      <th>CVSS</th>\n    </tr>\n  </thead>\n  <tbody>\n    <tr>\n      <th>0</th>\n      <td>frontend-6</td>\n      <td>libcrypto3</td>\n      <td>3.0.7-r0</td>\n      <td>CVE-2022-3996</td>\n      <td>HIGH</td>\n      <td>openssl: double locking leads to denial of ser...</td>\n      <td>{'nvd': {'V3Vector': 'CVSS:3.1/AV:N/AC:L/PR:N/...</td>\n    </tr>\n    <tr>\n      <th>0</th>\n      <td>frontend-6</td>\n      <td>libssl3</td>\n      <td>3.0.7-r0</td>\n      <td>CVE-2022-3996</td>\n      <td>HIGH</td>\n      <td>openssl: double locking leads to denial of ser...</td>\n      <td>{'nvd': {'V3Vector': 'CVSS:3.1/AV:N/AC:L/PR:N/...</td>\n    </tr>\n    <tr>\n      <th>0</th>\n      <td>frontend-4</td>\n      <td>libcrypto3</td>\n      <td>3.0.7-r0</td>\n      <td>CVE-2022-3996</td>\n      <td>HIGH</td>\n      <td>openssl: double locking leads to denial of ser...</td>\n      <td>{'nvd': {'V3Vector': 'CVSS:3.1/AV:N/AC:L/PR:N/...</td>\n    </tr>\n    <tr>\n      <th>0</th>\n      <td>frontend-4</td>\n      <td>libssl3</td>\n      <td>3.0.7-r0</td>\n      <td>CVE-2022-3996</td>\n      <td>HIGH</td>\n      <td>openssl: double locking leads to denial of ser...</td>\n      <td>{'nvd': {'V3Vector': 'CVSS:3.1/AV:N/AC:L/PR:N/...</td>\n    </tr>\n    <tr>\n      <th>0</th>\n      <td>frontend-3</td>\n      <td>libcrypto3</td>\n      <td>3.0.7-r0</td>\n      <td>CVE-2022-3996</td>\n      <td>HIGH</td>\n      <td>openssl: double locking leads to denial of ser...</td>\n      <td>{'nvd': {'V3Vector': 'CVSS:3.1/AV:N/AC:L/PR:N/...</td>\n    </tr>\n    <tr>\n      <th>0</th>\n      <td>frontend-3</td>\n      <td>libssl3</td>\n      <td>3.0.7-r0</td>\n      <td>CVE-2022-3996</td>\n      <td>HIGH</td>\n      <td>openssl: double locking leads to denial of ser...</td>\n      <td>{'nvd': {'V3Vector': 'CVSS:3.1/AV:N/AC:L/PR:N/...</td>\n    </tr>\n    <tr>\n      <th>0</th>\n      <td>frontend-5</td>\n      <td>libcrypto3</td>\n      <td>3.0.7-r0</td>\n      <td>CVE-2022-3996</td>\n      <td>HIGH</td>\n      <td>openssl: double locking leads to denial of ser...</td>\n      <td>{'nvd': {'V3Vector': 'CVSS:3.1/AV:N/AC:L/PR:N/...</td>\n    </tr>\n    <tr>\n      <th>0</th>\n      <td>frontend-5</td>\n      <td>libssl3</td>\n      <td>3.0.7-r0</td>\n      <td>CVE-2022-3996</td>\n      <td>HIGH</td>\n      <td>openssl: double locking leads to denial of ser...</td>\n      <td>{'nvd': {'V3Vector': 'CVSS:3.1/AV:N/AC:L/PR:N/...</td>\n    </tr>\n    <tr>\n      <th>0</th>\n      <td>frontend-11</td>\n      <td>libcrypto3</td>\n      <td>3.0.7-r0</td>\n      <td>CVE-2022-3996</td>\n      <td>HIGH</td>\n      <td>openssl: double locking leads to denial of ser...</td>\n      <td>{'nvd': {'V3Vector': 'CVSS:3.1/AV:N/AC:L/PR:N/...</td>\n    </tr>\n    <tr>\n      <th>0</th>\n      <td>frontend-11</td>\n      <td>libssl3</td>\n      <td>3.0.7-r0</td>\n      <td>CVE-2022-3996</td>\n      <td>HIGH</td>\n      <td>openssl: double locking leads to denial of ser...</td>\n      <td>{'nvd': {'V3Vector': 'CVSS:3.1/AV:N/AC:L/PR:N/...</td>\n    </tr>\n    <tr>\n      <th>0</th>\n      <td>frontend-7</td>\n      <td>libcrypto3</td>\n      <td>3.0.7-r0</td>\n      <td>CVE-2022-3996</td>\n      <td>HIGH</td>\n      <td>openssl: double locking leads to denial of ser...</td>\n      <td>{'nvd': {'V3Vector': 'CVSS:3.1/AV:N/AC:L/PR:N/...</td>\n    </tr>\n    <tr>\n      <th>0</th>\n      <td>frontend-7</td>\n      <td>libssl3</td>\n      <td>3.0.7-r0</td>\n      <td>CVE-2022-3996</td>\n      <td>HIGH</td>\n      <td>openssl: double locking leads to denial of ser...</td>\n      <td>{'nvd': {'V3Vector': 'CVSS:3.1/AV:N/AC:L/PR:N/...</td>\n    </tr>\n    <tr>\n      <th>0</th>\n      <td>frontend-14</td>\n      <td>libcrypto3</td>\n      <td>3.0.7-r0</td>\n      <td>CVE-2022-3996</td>\n      <td>HIGH</td>\n      <td>openssl: double locking leads to denial of ser...</td>\n      <td>{'nvd': {'V3Vector': 'CVSS:3.1/AV:N/AC:L/PR:N/...</td>\n    </tr>\n    <tr>\n      <th>0</th>\n      <td>frontend-14</td>\n      <td>libssl3</td>\n      <td>3.0.7-r0</td>\n      <td>CVE-2022-3996</td>\n      <td>HIGH</td>\n      <td>openssl: double locking leads to denial of ser...</td>\n      <td>{'nvd': {'V3Vector': 'CVSS:3.1/AV:N/AC:L/PR:N/...</td>\n    </tr>\n    <tr>\n      <th>0</th>\n      <td>frontend-15</td>\n      <td>libcrypto3</td>\n      <td>3.0.7-r0</td>\n      <td>CVE-2022-3996</td>\n      <td>HIGH</td>\n      <td>openssl: double locking leads to denial of ser...</td>\n      <td>{'nvd': {'V3Vector': 'CVSS:3.1/AV:N/AC:L/PR:N/...</td>\n    </tr>\n    <tr>\n      <th>0</th>\n      <td>frontend-15</td>\n      <td>libssl3</td>\n      <td>3.0.7-r0</td>\n      <td>CVE-2022-3996</td>\n      <td>HIGH</td>\n      <td>openssl: double locking leads to denial of ser...</td>\n      <td>{'nvd': {'V3Vector': 'CVSS:3.1/AV:N/AC:L/PR:N/...</td>\n    </tr>\n    <tr>\n      <th>0</th>\n      <td>frontend-8</td>\n      <td>libcrypto3</td>\n      <td>3.0.7-r0</td>\n      <td>CVE-2022-3996</td>\n      <td>HIGH</td>\n      <td>openssl: double locking leads to denial of ser...</td>\n      <td>{'nvd': {'V3Vector': 'CVSS:3.1/AV:N/AC:L/PR:N/...</td>\n    </tr>\n    <tr>\n      <th>0</th>\n      <td>frontend-8</td>\n      <td>libssl3</td>\n      <td>3.0.7-r0</td>\n      <td>CVE-2022-3996</td>\n      <td>HIGH</td>\n      <td>openssl: double locking leads to denial of ser...</td>\n      <td>{'nvd': {'V3Vector': 'CVSS:3.1/AV:N/AC:L/PR:N/...</td>\n    </tr>\n    <tr>\n      <th>0</th>\n      <td>frontend-10</td>\n      <td>libcrypto3</td>\n      <td>3.0.7-r0</td>\n      <td>CVE-2022-3996</td>\n      <td>HIGH</td>\n      <td>openssl: double locking leads to denial of ser...</td>\n      <td>{'nvd': {'V3Vector': 'CVSS:3.1/AV:N/AC:L/PR:N/...</td>\n    </tr>\n    <tr>\n      <th>0</th>\n      <td>frontend-10</td>\n      <td>libssl3</td>\n      <td>3.0.7-r0</td>\n      <td>CVE-2022-3996</td>\n      <td>HIGH</td>\n      <td>openssl: double locking leads to denial of ser...</td>\n      <td>{'nvd': {'V3Vector': 'CVSS:3.1/AV:N/AC:L/PR:N/...</td>\n    </tr>\n    <tr>\n      <th>0</th>\n      <td>frontend-9</td>\n      <td>libcrypto3</td>\n      <td>3.0.7-r0</td>\n      <td>CVE-2022-3996</td>\n      <td>HIGH</td>\n      <td>openssl: double locking leads to denial of ser...</td>\n      <td>{'nvd': {'V3Vector': 'CVSS:3.1/AV:N/AC:L/PR:N/...</td>\n    </tr>\n    <tr>\n      <th>0</th>\n      <td>frontend-9</td>\n      <td>libssl3</td>\n      <td>3.0.7-r0</td>\n      <td>CVE-2022-3996</td>\n      <td>HIGH</td>\n      <td>openssl: double locking leads to denial of ser...</td>\n      <td>{'nvd': {'V3Vector': 'CVSS:3.1/AV:N/AC:L/PR:N/...</td>\n    </tr>\n    <tr>\n      <th>0</th>\n      <td>frontend-12</td>\n      <td>libcrypto3</td>\n      <td>3.0.7-r0</td>\n      <td>CVE-2022-3996</td>\n      <td>HIGH</td>\n      <td>openssl: double locking leads to denial of ser...</td>\n      <td>{'nvd': {'V3Vector': 'CVSS:3.1/AV:N/AC:L/PR:N/...</td>\n    </tr>\n    <tr>\n      <th>0</th>\n      <td>frontend-12</td>\n      <td>libssl3</td>\n      <td>3.0.7-r0</td>\n      <td>CVE-2022-3996</td>\n      <td>HIGH</td>\n      <td>openssl: double locking leads to denial of ser...</td>\n      <td>{'nvd': {'V3Vector': 'CVSS:3.1/AV:N/AC:L/PR:N/...</td>\n    </tr>\n    <tr>\n      <th>0</th>\n      <td>frontend-2</td>\n      <td>libcrypto3</td>\n      <td>3.0.7-r0</td>\n      <td>CVE-2022-3996</td>\n      <td>HIGH</td>\n      <td>openssl: double locking leads to denial of ser...</td>\n      <td>{'nvd': {'V3Vector': 'CVSS:3.1/AV:N/AC:L/PR:N/...</td>\n    </tr>\n    <tr>\n      <th>0</th>\n      <td>frontend-2</td>\n      <td>libssl3</td>\n      <td>3.0.7-r0</td>\n      <td>CVE-2022-3996</td>\n      <td>HIGH</td>\n      <td>openssl: double locking leads to denial of ser...</td>\n      <td>{'nvd': {'V3Vector': 'CVSS:3.1/AV:N/AC:L/PR:N/...</td>\n    </tr>\n    <tr>\n      <th>0</th>\n      <td>frontend-1</td>\n      <td>libcrypto3</td>\n      <td>3.0.7-r0</td>\n      <td>CVE-2022-3996</td>\n      <td>HIGH</td>\n      <td>openssl: double locking leads to denial of ser...</td>\n      <td>{'nvd': {'V3Vector': 'CVSS:3.1/AV:N/AC:L/PR:N/...</td>\n    </tr>\n    <tr>\n      <th>0</th>\n      <td>frontend-1</td>\n      <td>libssl3</td>\n      <td>3.0.7-r0</td>\n      <td>CVE-2022-3996</td>\n      <td>HIGH</td>\n      <td>openssl: double locking leads to denial of ser...</td>\n      <td>{'nvd': {'V3Vector': 'CVSS:3.1/AV:N/AC:L/PR:N/...</td>\n    </tr>\n    <tr>\n      <th>0</th>\n      <td>frontend-13</td>\n      <td>libcrypto3</td>\n      <td>3.0.7-r0</td>\n      <td>CVE-2022-3996</td>\n      <td>HIGH</td>\n      <td>openssl: double locking leads to denial of ser...</td>\n      <td>{'nvd': {'V3Vector': 'CVSS:3.1/AV:N/AC:L/PR:N/...</td>\n    </tr>\n    <tr>\n      <th>0</th>\n      <td>frontend-13</td>\n      <td>libssl3</td>\n      <td>3.0.7-r0</td>\n      <td>CVE-2022-3996</td>\n      <td>HIGH</td>\n      <td>openssl: double locking leads to denial of ser...</td>\n      <td>{'nvd': {'V3Vector': 'CVSS:3.1/AV:N/AC:L/PR:N/...</td>\n    </tr>\n  </tbody>\n</table>\n</div>"
     },
     "execution_count": 33,
     "metadata": {},
     "output_type": "execute_result"
    }
   ],
   "source": [
    "df_vuln_frontend3 = get_cve_df_for_service(\"frontend\")\n",
    "df_vuln_frontend3"
   ],
   "metadata": {
    "collapsed": false,
    "ExecuteTime": {
     "end_time": "2024-04-04T09:44:28.836180Z",
     "start_time": "2024-04-04T09:44:28.732022Z"
    }
   },
   "id": "7c748b1074449156",
   "execution_count": 33
  },
  {
   "cell_type": "code",
   "outputs": [
    {
     "data": {
      "text/plain": "       Pod-ID    Software   Version         CVE-ID CVE-Severity  \\\n0  frontend-6  libcrypto3  3.0.7-r0  CVE-2022-3996         HIGH   \n0  frontend-6     libssl3  3.0.7-r0  CVE-2022-3996         HIGH   \n\n                                           CVE-Title  \\\n0  openssl: double locking leads to denial of ser...   \n0  openssl: double locking leads to denial of ser...   \n\n                                                CVSS  \n0  {'nvd': {'V3Vector': 'CVSS:3.1/AV:N/AC:L/PR:N/...  \n0  {'nvd': {'V3Vector': 'CVSS:3.1/AV:N/AC:L/PR:N/...  ",
      "text/html": "<div>\n<style scoped>\n    .dataframe tbody tr th:only-of-type {\n        vertical-align: middle;\n    }\n\n    .dataframe tbody tr th {\n        vertical-align: top;\n    }\n\n    .dataframe thead th {\n        text-align: right;\n    }\n</style>\n<table border=\"1\" class=\"dataframe\">\n  <thead>\n    <tr style=\"text-align: right;\">\n      <th></th>\n      <th>Pod-ID</th>\n      <th>Software</th>\n      <th>Version</th>\n      <th>CVE-ID</th>\n      <th>CVE-Severity</th>\n      <th>CVE-Title</th>\n      <th>CVSS</th>\n    </tr>\n  </thead>\n  <tbody>\n    <tr>\n      <th>0</th>\n      <td>frontend-6</td>\n      <td>libcrypto3</td>\n      <td>3.0.7-r0</td>\n      <td>CVE-2022-3996</td>\n      <td>HIGH</td>\n      <td>openssl: double locking leads to denial of ser...</td>\n      <td>{'nvd': {'V3Vector': 'CVSS:3.1/AV:N/AC:L/PR:N/...</td>\n    </tr>\n    <tr>\n      <th>0</th>\n      <td>frontend-6</td>\n      <td>libssl3</td>\n      <td>3.0.7-r0</td>\n      <td>CVE-2022-3996</td>\n      <td>HIGH</td>\n      <td>openssl: double locking leads to denial of ser...</td>\n      <td>{'nvd': {'V3Vector': 'CVSS:3.1/AV:N/AC:L/PR:N/...</td>\n    </tr>\n  </tbody>\n</table>\n</div>"
     },
     "execution_count": 34,
     "metadata": {},
     "output_type": "execute_result"
    }
   ],
   "source": [
    "df_vuln_frontend3.drop_duplicates(subset=df_vuln_frontend3.columns.difference(['Pod-ID','CVSS']))"
   ],
   "metadata": {
    "collapsed": false,
    "ExecuteTime": {
     "end_time": "2024-04-04T09:44:32.542315Z",
     "start_time": "2024-04-04T09:44:32.524091Z"
    }
   },
   "id": "cd8a88ad7c0c8e6b",
   "execution_count": 34
  }
 ],
 "metadata": {
  "kernelspec": {
   "display_name": "Python 3",
   "language": "python",
   "name": "python3"
  },
  "language_info": {
   "codemirror_mode": {
    "name": "ipython",
    "version": 2
   },
   "file_extension": ".py",
   "mimetype": "text/x-python",
   "name": "python",
   "nbconvert_exporter": "python",
   "pygments_lexer": "ipython2",
   "version": "2.7.6"
  }
 },
 "nbformat": 4,
 "nbformat_minor": 5
}
